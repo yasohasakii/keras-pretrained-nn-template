{
 "cells": [
  {
   "cell_type": "markdown",
   "metadata": {},
   "source": [
    "# Keras pretrained templates\n",
    "In this part we would learn how to apply official pretrained model to our own model. For more details on [Keras Official](https://keras.io/applications/).  "
   ]
  },
  {
   "cell_type": "code",
   "execution_count": null,
   "metadata": {
    "collapsed": true
   },
   "outputs": [],
   "source": [
    "# ResNet 50\n",
    "from keras.applications.resnet50 import ResNet50\n",
    "from keras.applications.resnet50 import preprocess_input, decode_predictions\n",
    "\n",
    "model = ResNet50(input_shape=(1024,1024,3),classes =2, include_top = False)\n",
    "# In a 2-class task ,you can use a pretrained ResNet like this, the pretrain data is ImageNet, if 'include_top = False' it means model output \n",
    "# hasn't been densed, you'd get a (?,32,32,2) tensor as rethult. The tensor shape (?,32,32,2) is form by input shape (1024) and classes (2) \n",
    "# change those for your task."
   ]
  },
  {
   "cell_type": "code",
   "execution_count": null,
   "metadata": {
    "collapsed": true
   },
   "outputs": [],
   "source": [
    "# If you want to frinetune on this model, you could use this as a base model.\n",
    "from keras.models import Model\n",
    "from keras.applications.resnet50 import ResNet50\n",
    "from keras.layers import Input, Dense, Convolution2D, Activation\n",
    "\n",
    "input = Input(shape = (1024,1024,3),name = 'image')\n",
    "base_model = ResNet50(input_shape=(1024,1024,3),classes =2, include_top = False)\n",
    "x = base_model.output\n",
    "x = Convolution2D(2, (1, 1), padding='valid', name='conv_50')(x)\n",
    "x = Activation('relu',name = 'relu_50')(x)\n",
    "x = GlobalAveragePooling2D()(x)\n",
    "x = Activation('softmax',name = 'loss')(x) \n",
    "model = Model(input, x, name = 'my own nn')\n",
    "\n",
    "# As you see, I add conv layer and activition function on resnet50, then you can finetune it in your dataset."
   ]
  },
  {
   "cell_type": "code",
   "execution_count": null,
   "metadata": {
    "collapsed": true
   },
   "outputs": [],
   "source": []
  }
 ],
 "metadata": {
  "anaconda-cloud": {},
  "kernelspec": {
   "display_name": "Python [default]",
   "language": "python",
   "name": "python2"
  },
  "language_info": {
   "codemirror_mode": {
    "name": "ipython",
    "version": 2
   },
   "file_extension": ".py",
   "mimetype": "text/x-python",
   "name": "python",
   "nbconvert_exporter": "python",
   "pygments_lexer": "ipython2",
   "version": "2.7.12"
  }
 },
 "nbformat": 4,
 "nbformat_minor": 1
}
